{
 "cells": [
  {
   "cell_type": "code",
   "execution_count": 62,
   "metadata": {},
   "outputs": [],
   "source": [
    "import networkx as nx"
   ]
  },
  {
   "cell_type": "markdown",
   "metadata": {},
   "source": [
    "Examples of undirected graphs"
   ]
  },
  {
   "cell_type": "code",
   "execution_count": 63,
   "metadata": {},
   "outputs": [],
   "source": [
    "def initialize_graph_1():\n",
    "    G = nx.Graph()\n",
    "    nodes = ('u', 'v', 'w', 'x', 'y', 'z')\n",
    "    G.add_nodes_from(nodes)\n",
    "    edges = (('u','v'), ('u','w'), ('v','w'), ('v','x'), ('w','x'),\n",
    "             ('w','y'), ('y','x'), ('x','z'))\n",
    "    G.add_edges_from(edges)\n",
    "    return G"
   ]
  },
  {
   "cell_type": "code",
   "execution_count": 64,
   "metadata": {},
   "outputs": [],
   "source": [
    "def initialize_graph_2():\n",
    "    G = nx.Graph()\n",
    "    nodes = ('A', 'B', 'C', 'D', 'E', 'F', 'G', 'H', 'I', 'L')\n",
    "    G.add_nodes_from(nodes)\n",
    "    edges = (('A','B'), ('A','C'), ('A','D'), ('A','E'), ('A','F'),\n",
    "             ('A','H'), ('B','C'), ('C','D'), ('D','L'), ('F','G'),\n",
    "             ('G','H'), ('H','I'), ('H','L'))\n",
    "    G.add_edges_from(edges)\n",
    "    return G"
   ]
  },
  {
   "cell_type": "markdown",
   "metadata": {},
   "source": [
    "Closeness centrality algorithm for unweighted graphs"
   ]
  },
  {
   "cell_type": "code",
   "execution_count": 65,
   "metadata": {},
   "outputs": [],
   "source": [
    "def closeness_centrality(G, v):\n",
    "    length = dict(nx.all_pairs_shortest_path_length(G))\n",
    "    sum = 0\n",
    "    \n",
    "    for node in G.nodes():\n",
    "        sum = sum + length[v][node]\n",
    "        \n",
    "    return (G.number_of_nodes() - 1) / sum\n",
    "    "
   ]
  },
  {
   "cell_type": "code",
   "execution_count": 66,
   "metadata": {},
   "outputs": [
    {
     "name": "stdout",
     "output_type": "stream",
     "text": [
      "0.5555555555555556\n",
      "0.7142857142857143\n",
      "0.8333333333333334\n",
      "0.8333333333333334\n",
      "0.625\n",
      "0.5\n"
     ]
    }
   ],
   "source": [
    "G = initialize_graph_1()\n",
    "\n",
    "for n in G.nodes():\n",
    "    print(closeness_centrality(G, n))"
   ]
  },
  {
   "cell_type": "code",
   "execution_count": 67,
   "metadata": {},
   "outputs": [
    {
     "name": "stdout",
     "output_type": "stream",
     "text": [
      "0.75\n",
      "0.47368421052631576\n",
      "0.5294117647058824\n",
      "0.5294117647058824\n",
      "0.45\n",
      "0.5\n",
      "0.45\n",
      "0.6428571428571429\n",
      "0.4090909090909091\n",
      "0.47368421052631576\n"
     ]
    }
   ],
   "source": [
    "G = initialize_graph_2()\n",
    "\n",
    "for n in G.nodes():\n",
    "    print(closeness_centrality(G, n))"
   ]
  },
  {
   "cell_type": "markdown",
   "metadata": {},
   "source": [
    "Example of directed graph"
   ]
  },
  {
   "cell_type": "code",
   "execution_count": 68,
   "metadata": {},
   "outputs": [],
   "source": [
    "def initialize_weighted_graph():\n",
    "    G = nx.Graph()\n",
    "    nodes = ('A', 'B', 'C', 'D', 'E', 'F', 'G', 'H', 'I', 'L')\n",
    "    G.add_nodes_from(nodes)\n",
    "    G.add_edge('A','B',weight=2)\n",
    "    G.add_edge('A','C',weight=5)\n",
    "    G.add_edge('A','D',weight=9)\n",
    "    G.add_edge('A','E',weight=7)\n",
    "    G.add_edge('A','F',weight=2)\n",
    "    G.add_edge('B','C',weight=2)\n",
    "    G.add_edge('C','D',weight=3)\n",
    "    G.add_edge('D','L',weight=8)\n",
    "    G.add_edge('F','G',weight=1)\n",
    "    G.add_edge('G','H',weight=1)\n",
    "    G.add_edge('H','I',weight=3)\n",
    "    G.add_edge('H','L',weight=4)\n",
    "    \n",
    "    return G"
   ]
  },
  {
   "cell_type": "markdown",
   "metadata": {},
   "source": [
    "Closeness centrality algorithm for weighted graphs"
   ]
  },
  {
   "cell_type": "code",
   "execution_count": 69,
   "metadata": {},
   "outputs": [],
   "source": [
    "def closeness_centrality_weighted(G, v):\n",
    "    length = dict(nx.all_pairs_dijkstra_path_length(G))\n",
    "    sum = 0\n",
    "    \n",
    "    for node in G.nodes():\n",
    "        sum = sum + length[v][node]\n",
    "        \n",
    "    return (G.number_of_nodes() - 1) / sum\n",
    "    "
   ]
  },
  {
   "cell_type": "code",
   "execution_count": 70,
   "metadata": {},
   "outputs": [
    {
     "name": "stdout",
     "output_type": "stream",
     "text": [
      "A: 0.20454545454545456\n",
      "B: 0.17307692307692307\n",
      "C: 0.14285714285714285\n",
      "D: 0.1111111111111111\n",
      "E: 0.09\n",
      "F: 0.20454545454545456\n",
      "G: 0.1956521739130435\n",
      "H: 0.18\n",
      "I: 0.12162162162162163\n",
      "L: 0.12162162162162163\n"
     ]
    }
   ],
   "source": [
    "G = initialize_weighted_graph()\n",
    "\n",
    "for node in G.nodes():\n",
    "    print(\"{}: {}\".format(node, closeness_centrality_weighted(G,node)))"
   ]
  },
  {
   "cell_type": "code",
   "execution_count": 71,
   "metadata": {},
   "outputs": [],
   "source": [
    "import numpy as np\n",
    "from numpy import size\n",
    "import random\n",
    "import sklearn"
   ]
  },
  {
   "cell_type": "markdown",
   "metadata": {},
   "source": [
    "Eppstein-Wang algorithm for weighted and unweighted graphs"
   ]
  },
  {
   "cell_type": "code",
   "execution_count": 72,
   "metadata": {},
   "outputs": [],
   "source": [
    "def eppstein_wang(G,k,weight=False,verbose=False):\n",
    "    # Number of nodes in the graph\n",
    "    n = G.number_of_nodes()\n",
    "    # Initialize the array of sum\n",
    "    sum = np.zeros(n)\n",
    "    # Save a list of nodes\n",
    "    nodes = list(G.nodes())\n",
    "    # Get k random index that refers to k nodes\n",
    "    index = random.sample(range(n), k)\n",
    "    \n",
    "    # Create the matrix of distance between nodes\n",
    "    length = dict()\n",
    "    if weight == False:\n",
    "        length = dict(nx.all_pairs_shortest_path_length(G))\n",
    "    else:\n",
    "        length = dict(nx.all_pairs_dijkstra_path_length(G))\n",
    "    \n",
    "    # For each node compute the distance respect the k nodes\n",
    "    for i in index:\n",
    "        tmp_node = nodes[i]\n",
    "        for j in range(n):\n",
    "            sum[j] = sum[j] + length[tmp_node][nodes[j]]\n",
    "    \n",
    "    # Initialize the approximated cost\n",
    "    c = np.zeros(n)\n",
    "    \n",
    "    # Save the results in the array\n",
    "    for i in range(len(sum)):\n",
    "        c[i] = 1 / ((n * sum[i]) / (k * (n-1)))\n",
    "        \n",
    "    if verbose:\n",
    "        for i in range(len(sum)):\n",
    "            print(\"{}: {}\".format(nodes[i], c[i]))\n",
    "    \n",
    "    return c;\n",
    "    \n",
    "    "
   ]
  },
  {
   "cell_type": "code",
   "execution_count": 73,
   "metadata": {},
   "outputs": [
    {
     "name": "stdout",
     "output_type": "stream",
     "text": [
      "u: 0.5555555555555556\n",
      "v: 0.7142857142857143\n",
      "w: 0.8333333333333334\n",
      "x: 0.8333333333333334\n",
      "y: 0.625\n",
      "z: 0.5\n"
     ]
    }
   ],
   "source": [
    "G = initialize_graph_1()\n",
    "\n",
    "result = eppstein_wang(G,6,verbose=True)"
   ]
  },
  {
   "cell_type": "code",
   "execution_count": 74,
   "metadata": {},
   "outputs": [
    {
     "name": "stdout",
     "output_type": "stream",
     "text": [
      "A: 0.20454545454545453\n",
      "B: 0.1875\n",
      "C: 0.15\n",
      "D: 0.1\n",
      "E: 0.10465116279069768\n",
      "F: 0.1875\n",
      "G: 0.16666666666666666\n",
      "H: 0.15\n",
      "I: 0.11538461538461539\n",
      "L: 0.09183673469387754\n"
     ]
    }
   ],
   "source": [
    "G = initialize_weighted_graph()\n",
    "\n",
    "result = eppstein_wang(G,5,weight=True,verbose=True)"
   ]
  },
  {
   "cell_type": "markdown",
   "metadata": {},
   "source": [
    "Approximating Betweenness Centralities"
   ]
  },
  {
   "cell_type": "code",
   "execution_count": 75,
   "metadata": {},
   "outputs": [],
   "source": [
    "def app_betweenness_centralities(G,k,weight=False):\n",
    "    # Initialize array of cost\n",
    "    b = np.zeros(G.number_of_nodes())\n",
    "    # Save a list of nodes\n",
    "    nodes = list(G.nodes())\n",
    "    \n",
    "    # For each node compute the distance respect the k nodes\n",
    "    for i in range(k):\n",
    "        # Get random pair\n",
    "        pair = random.sample(nodes,2)\n",
    "        # Compute shortest path between pair and get  a random between the resulting elements\n",
    "        shortest_path = random.choice(list(nx.all_shortest_paths(G,pair[0],pair[1],weight=weight)))\n",
    "        \n",
    "        # If the node is not in the path update the cost\n",
    "        for i in range(len(nodes)):\n",
    "            if nodes[i] != pair[0] and nodes[i] != pair[1]:\n",
    "                b[i] = b[i] + 1/k\n",
    "    return b\n",
    "        "
   ]
  },
  {
   "cell_type": "code",
   "execution_count": 76,
   "metadata": {},
   "outputs": [
    {
     "data": {
      "text/plain": [
       "array([0.75, 0.75, 0.5 , 1.  , 0.75, 0.75, 1.  , 0.75, 0.75, 1.  ])"
      ]
     },
     "execution_count": 76,
     "metadata": {},
     "output_type": "execute_result"
    }
   ],
   "source": [
    "G = initialize_weighted_graph()\n",
    "\n",
    "app_betweenness_centralities(G,4,True)"
   ]
  },
  {
   "cell_type": "markdown",
   "metadata": {},
   "source": [
    "Local clustering coefficient"
   ]
  },
  {
   "cell_type": "code",
   "execution_count": 77,
   "metadata": {},
   "outputs": [
    {
     "data": {
      "image/png": "[encoded data removed]",
      "text/plain": [
       "<Figure size 640x480 with 1 Axes>"
      ]
     },
     "metadata": {},
     "output_type": "display_data"
    }
   ],
   "source": [
    "G = nx.karate_club_graph()\n",
    "\n",
    "nx.draw_networkx(G)"
   ]
  },
  {
   "cell_type": "code",
   "execution_count": 78,
   "metadata": {},
   "outputs": [
    {
     "name": "stdout",
     "output_type": "stream",
     "text": [
      "{0: 0.48484848484848486, 1: 0.2727272727272727, 2: 0.30303030303030304, 3: 0.18181818181818182, 4: 0.09090909090909091, 5: 0.12121212121212122, 6: 0.12121212121212122, 7: 0.12121212121212122, 8: 0.15151515151515152, 9: 0.06060606060606061, 10: 0.09090909090909091, 11: 0.030303030303030304, 12: 0.06060606060606061, 13: 0.15151515151515152, 14: 0.06060606060606061, 15: 0.06060606060606061, 16: 0.06060606060606061, 17: 0.06060606060606061, 18: 0.06060606060606061, 19: 0.09090909090909091, 20: 0.06060606060606061, 21: 0.06060606060606061, 22: 0.06060606060606061, 23: 0.15151515151515152, 24: 0.09090909090909091, 25: 0.09090909090909091, 26: 0.06060606060606061, 27: 0.12121212121212122, 28: 0.09090909090909091, 29: 0.12121212121212122, 30: 0.12121212121212122, 31: 0.18181818181818182, 32: 0.36363636363636365, 33: 0.5151515151515151}\n"
     ]
    }
   ],
   "source": [
    "deg = nx.degree_centrality(G)\n",
    "\n",
    "print(deg)"
   ]
  },
  {
   "cell_type": "code",
   "execution_count": 79,
   "metadata": {},
   "outputs": [
    {
     "name": "stdout",
     "output_type": "stream",
     "text": [
      "{0: 0.5689655172413793, 1: 0.4852941176470588, 2: 0.559322033898305, 3: 0.4647887323943662, 4: 0.3793103448275862, 5: 0.38372093023255816, 6: 0.38372093023255816, 7: 0.44, 8: 0.515625, 9: 0.4342105263157895, 10: 0.3793103448275862, 11: 0.36666666666666664, 12: 0.3707865168539326, 13: 0.515625, 14: 0.3707865168539326, 15: 0.3707865168539326, 16: 0.28448275862068967, 17: 0.375, 18: 0.3707865168539326, 19: 0.5, 20: 0.3707865168539326, 21: 0.375, 22: 0.3707865168539326, 23: 0.39285714285714285, 24: 0.375, 25: 0.375, 26: 0.3626373626373626, 27: 0.4583333333333333, 28: 0.4520547945205479, 29: 0.38372093023255816, 30: 0.4583333333333333, 31: 0.5409836065573771, 32: 0.515625, 33: 0.55}\n"
     ]
    }
   ],
   "source": [
    "clos = nx.closeness_centrality(G)\n",
    "\n",
    "print(clos)"
   ]
  },
  {
   "cell_type": "code",
   "execution_count": 80,
   "metadata": {},
   "outputs": [
    {
     "name": "stdout",
     "output_type": "stream",
     "text": [
      "{0: 0.43763528138528146, 1: 0.053936688311688304, 2: 0.14365680615680618, 3: 0.011909271284271283, 4: 0.0006313131313131313, 5: 0.02998737373737374, 6: 0.029987373737373736, 7: 0.0, 8: 0.05592682780182781, 9: 0.0008477633477633478, 10: 0.0006313131313131313, 11: 0.0, 12: 0.0, 13: 0.04586339586339586, 14: 0.0, 15: 0.0, 16: 0.0, 17: 0.0, 18: 0.0, 19: 0.03247504810004811, 20: 0.0, 21: 0.0, 22: 0.0, 23: 0.017613636363636363, 24: 0.0022095959595959595, 25: 0.0038404882154882154, 26: 0.0, 27: 0.02233345358345358, 28: 0.0017947330447330447, 29: 0.0029220779220779218, 30: 0.014411976911976909, 31: 0.13827561327561325, 32: 0.145247113997114, 33: 0.30407497594997596}\n"
     ]
    }
   ],
   "source": [
    "bet = nx.betweenness_centrality(G)\n",
    "\n",
    "print(bet)"
   ]
  }
 ],
 "metadata": {
  "kernelspec": {
   "display_name": "Python 3.10.6 64-bit",
   "language": "python",
   "name": "python3"
  },
  "language_info": {
   "codemirror_mode": {
    "name": "ipython",
    "version": 3
   },
   "file_extension": ".py",
   "mimetype": "text/x-python",
   "name": "python",
   "nbconvert_exporter": "python",
   "pygments_lexer": "ipython3",
   "version": "3.10.6"
  },
  "orig_nbformat": 4,
  "vscode": {
   "interpreter": {
    "hash": "916dbcbb3f70747c44a77c7bcd40155683ae19c65e1c03b4aa3499c5328201f1"
   }
  }
 },
 "nbformat": 4,
 "nbformat_minor": 2
}
