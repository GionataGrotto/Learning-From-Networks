{
 "cells": [
  {
   "cell_type": "code",
   "execution_count": 103,
   "metadata": {},
   "outputs": [],
   "source": [
    "import networkx as nx"
   ]
  },
  {
   "cell_type": "markdown",
   "metadata": {},
   "source": [
    "Examples of undirected graphs"
   ]
  },
  {
   "cell_type": "code",
   "execution_count": 104,
   "metadata": {},
   "outputs": [],
   "source": [
    "def initialize_graph_1():\n",
    "    G = nx.Graph()\n",
    "    nodes = ('u', 'v', 'w', 'x', 'y', 'z')\n",
    "    G.add_nodes_from(nodes)\n",
    "    edges = (('u','v'), ('u','w'), ('v','w'), ('v','x'), ('w','x'),\n",
    "             ('w','y'), ('y','x'), ('x','z'))\n",
    "    G.add_edges_from(edges)\n",
    "    return G"
   ]
  },
  {
   "cell_type": "code",
   "execution_count": 105,
   "metadata": {},
   "outputs": [],
   "source": [
    "def initialize_graph_2():\n",
    "    G = nx.Graph()\n",
    "    nodes = ('A', 'B', 'C', 'D', 'E', 'F', 'G', 'H', 'I', 'L')\n",
    "    G.add_nodes_from(nodes)\n",
    "    edges = (('A','B'), ('A','C'), ('A','D'), ('A','E'), ('A','F'),\n",
    "             ('A','H'), ('B','C'), ('C','D'), ('D','L'), ('F','G'),\n",
    "             ('G','H'), ('H','I'), ('H','L'))\n",
    "    G.add_edges_from(edges)\n",
    "    return G"
   ]
  },
  {
   "cell_type": "markdown",
   "metadata": {},
   "source": [
    "Closeness centrality algorithm for unweighted graphs"
   ]
  },
  {
   "cell_type": "code",
   "execution_count": 106,
   "metadata": {},
   "outputs": [],
   "source": [
    "def closeness_centrality(G, v):\n",
    "    length = dict(nx.all_pairs_shortest_path_length(G))\n",
    "    sum = 0\n",
    "    \n",
    "    for node in G.nodes():\n",
    "        sum = sum + length[v][node]\n",
    "        \n",
    "    return (G.number_of_nodes() - 1) / sum\n",
    "    "
   ]
  },
  {
   "cell_type": "code",
   "execution_count": 107,
   "metadata": {},
   "outputs": [
    {
     "name": "stdout",
     "output_type": "stream",
     "text": [
      "0.5555555555555556\n",
      "0.7142857142857143\n",
      "0.8333333333333334\n",
      "0.8333333333333334\n",
      "0.625\n",
      "0.5\n"
     ]
    }
   ],
   "source": [
    "G = initialize_graph_1()\n",
    "\n",
    "for n in G.nodes():\n",
    "    print(closeness_centrality(G, n))"
   ]
  },
  {
   "cell_type": "code",
   "execution_count": 108,
   "metadata": {},
   "outputs": [
    {
     "name": "stdout",
     "output_type": "stream",
     "text": [
      "0.75\n",
      "0.47368421052631576\n",
      "0.5294117647058824\n",
      "0.5294117647058824\n",
      "0.45\n",
      "0.5\n",
      "0.45\n",
      "0.6428571428571429\n",
      "0.4090909090909091\n",
      "0.47368421052631576\n"
     ]
    }
   ],
   "source": [
    "G = initialize_graph_2()\n",
    "\n",
    "for n in G.nodes():\n",
    "    print(closeness_centrality(G, n))"
   ]
  },
  {
   "cell_type": "markdown",
   "metadata": {},
   "source": [
    "Example of directed graph"
   ]
  },
  {
   "cell_type": "code",
   "execution_count": 109,
   "metadata": {},
   "outputs": [],
   "source": [
    "def initialize_weighted_graph():\n",
    "    G = nx.Graph()\n",
    "    nodes = ('A', 'B', 'C', 'D', 'E', 'F', 'G', 'H', 'I', 'L')\n",
    "    G.add_nodes_from(nodes)\n",
    "    G.add_edge('A','B',weight=2)\n",
    "    G.add_edge('A','C',weight=5)\n",
    "    G.add_edge('A','D',weight=9)\n",
    "    G.add_edge('A','E',weight=7)\n",
    "    G.add_edge('A','F',weight=2)\n",
    "    G.add_edge('B','C',weight=2)\n",
    "    G.add_edge('C','D',weight=3)\n",
    "    G.add_edge('D','L',weight=8)\n",
    "    G.add_edge('F','G',weight=1)\n",
    "    G.add_edge('G','H',weight=1)\n",
    "    G.add_edge('H','I',weight=3)\n",
    "    G.add_edge('H','L',weight=4)\n",
    "    \n",
    "    return G"
   ]
  },
  {
   "cell_type": "markdown",
   "metadata": {},
   "source": [
    "Closeness centrality algorithm for weighted graphs"
   ]
  },
  {
   "cell_type": "code",
   "execution_count": 110,
   "metadata": {},
   "outputs": [],
   "source": [
    "def closeness_centrality_weighted(G, v):\n",
    "    length = dict(nx.all_pairs_dijkstra_path_length(G))\n",
    "    sum = 0\n",
    "    \n",
    "    for node in G.nodes():\n",
    "        sum = sum + length[v][node]\n",
    "        \n",
    "    return (G.number_of_nodes() - 1) / sum\n",
    "    "
   ]
  },
  {
   "cell_type": "code",
   "execution_count": 111,
   "metadata": {},
   "outputs": [
    {
     "name": "stdout",
     "output_type": "stream",
     "text": [
      "A: 0.20454545454545456\n",
      "B: 0.17307692307692307\n",
      "C: 0.14285714285714285\n",
      "D: 0.1111111111111111\n",
      "E: 0.09\n",
      "F: 0.20454545454545456\n",
      "G: 0.1956521739130435\n",
      "H: 0.18\n",
      "I: 0.12162162162162163\n",
      "L: 0.12162162162162163\n"
     ]
    }
   ],
   "source": [
    "G = initialize_weighted_graph()\n",
    "\n",
    "for node in G.nodes():\n",
    "    print(\"{}: {}\".format(node, closeness_centrality_weighted(G,node)))"
   ]
  },
  {
   "cell_type": "code",
   "execution_count": 112,
   "metadata": {},
   "outputs": [],
   "source": [
    "import numpy as np\n",
    "from numpy import size\n",
    "import random\n",
    "import sklearn"
   ]
  },
  {
   "cell_type": "markdown",
   "metadata": {},
   "source": [
    "Eppstein-Wang algorithm for weighted and unweighted graphs"
   ]
  },
  {
   "cell_type": "code",
   "execution_count": 113,
   "metadata": {},
   "outputs": [],
   "source": [
    "def eppstein_wang(G,k,weight=False,verbose=False):\n",
    "    # Number of nodes in the graph\n",
    "    n = G.number_of_nodes()\n",
    "    # Initialize the array of sum\n",
    "    sum = np.zeros(n)\n",
    "    # Save a list of nodes\n",
    "    nodes = list(G.nodes())\n",
    "    # Get k random index that refers to k nodes\n",
    "    index = random.sample(range(n), k)\n",
    "    \n",
    "    # Create the matrix of distance between nodes\n",
    "    length = dict()\n",
    "    if weight == False:\n",
    "        length = dict(nx.all_pairs_shortest_path_length(G))\n",
    "    else:\n",
    "        length = dict(nx.all_pairs_dijkstra_path_length(G))\n",
    "    \n",
    "    # For each node compute the distance respect the k nodes\n",
    "    for i in index:\n",
    "        tmp_node = nodes[i]\n",
    "        for j in range(n):\n",
    "            sum[j] = sum[j] + length[tmp_node][nodes[j]]\n",
    "    \n",
    "    # Initialize the approximated cost\n",
    "    c = np.zeros(n)\n",
    "    \n",
    "    # Save the results in the array\n",
    "    for i in range(len(sum)):\n",
    "        c[i] = 1 / ((n * sum[i]) / (k * (n-1)))\n",
    "        \n",
    "    if verbose:\n",
    "        for i in range(len(sum)):\n",
    "            print(\"{}: {}\".format(nodes[i], c[i]))\n",
    "    \n",
    "    return c;\n",
    "    \n",
    "    "
   ]
  },
  {
   "cell_type": "code",
   "execution_count": 118,
   "metadata": {},
   "outputs": [
    {
     "name": "stdout",
     "output_type": "stream",
     "text": [
      "u: 0.5555555555555556\n",
      "v: 0.7142857142857143\n",
      "w: 0.8333333333333334\n",
      "x: 0.8333333333333334\n",
      "y: 0.625\n",
      "z: 0.5\n"
     ]
    }
   ],
   "source": [
    "G = initialize_graph_1()\n",
    "\n",
    "result = eppstein_wang(G,6,verbose=True)"
   ]
  },
  {
   "cell_type": "code",
   "execution_count": 119,
   "metadata": {},
   "outputs": [
    {
     "name": "stdout",
     "output_type": "stream",
     "text": [
      "A: 0.1875\n",
      "B: 0.1323529411764706\n",
      "C: 0.10465116279069768\n",
      "D: 0.08653846153846154\n",
      "E: 0.1\n",
      "F: 0.20454545454545453\n",
      "G: 0.1956521739130435\n",
      "H: 0.1875\n",
      "I: 0.13636363636363638\n",
      "L: 0.125\n"
     ]
    }
   ],
   "source": [
    "G = initialize_weighted_graph()\n",
    "\n",
    "result = eppstein_wang(G,5,weight=True,verbose=True)"
   ]
  },
  {
   "cell_type": "markdown",
   "metadata": {},
   "source": [
    "Approximating Betweenness Centralities"
   ]
  },
  {
   "cell_type": "code",
   "execution_count": 145,
   "metadata": {},
   "outputs": [],
   "source": [
    "def app_betweenness_centralities(G,k,weight=False):\n",
    "    # Initialize array of cost\n",
    "    b = np.zeros(G.number_of_nodes())\n",
    "    # Save a list of nodes\n",
    "    nodes = list(G.nodes())\n",
    "    \n",
    "    # For each node compute the distance respect the k nodes\n",
    "    for i in range(k):\n",
    "        # Get random pair\n",
    "        pair = random.sample(nodes,2)\n",
    "        # Compute shortest path between pair and get  a random between the resulting elements\n",
    "        shortest_path = random.choice(list(nx.all_shortest_paths(G,pair[0],pair[1],weight=weight)))\n",
    "        \n",
    "        # If the node is not in the path update the cost\n",
    "        for i in range(len(nodes)):\n",
    "            if nodes[i] != pair[0] and nodes[i] != pair[1]:\n",
    "                b[i] = b[i] + 1/k\n",
    "    return b\n",
    "        "
   ]
  },
  {
   "cell_type": "code",
   "execution_count": 146,
   "metadata": {},
   "outputs": [
    {
     "data": {
      "text/plain": [
       "array([0.75, 1.  , 1.  , 0.25, 0.75, 0.75, 0.75, 1.  , 0.75, 1.  ])"
      ]
     },
     "execution_count": 146,
     "metadata": {},
     "output_type": "execute_result"
    }
   ],
   "source": [
    "G = initialize_weighted_graph()\n",
    "\n",
    "app_betweenness_centralities(G,4,True)"
   ]
  }
 ],
 "metadata": {
  "kernelspec": {
   "display_name": "Python 3.10.6 64-bit",
   "language": "python",
   "name": "python3"
  },
  "language_info": {
   "codemirror_mode": {
    "name": "ipython",
    "version": 3
   },
   "file_extension": ".py",
   "mimetype": "text/x-python",
   "name": "python",
   "nbconvert_exporter": "python",
   "pygments_lexer": "ipython3",
   "version": "3.10.6"
  },
  "orig_nbformat": 4,
  "vscode": {
   "interpreter": {
    "hash": "916dbcbb3f70747c44a77c7bcd40155683ae19c65e1c03b4aa3499c5328201f1"
   }
  }
 },
 "nbformat": 4,
 "nbformat_minor": 2
}
