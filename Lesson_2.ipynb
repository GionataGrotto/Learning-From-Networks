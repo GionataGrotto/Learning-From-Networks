{
 "cells": [
  {
   "cell_type": "code",
   "execution_count": 6,
   "metadata": {},
   "outputs": [],
   "source": [
    "import networkx as nx"
   ]
  },
  {
   "cell_type": "code",
   "execution_count": 58,
   "metadata": {},
   "outputs": [],
   "source": [
    "from queue import Queue\n",
    "\n",
    "\n",
    "def BFS(G,s):\n",
    "        \n",
    "    for edge in G.edges():\n",
    "        edge['label'] = None\n",
    "    \n",
    "    for node in G.nodes():\n",
    "        node['ID'] = 0\n",
    "        \n",
    "    s['ID'] = 1\n",
    "    \n",
    "    queue = list()\n",
    "    queue.append(s)\n",
    "    \n",
    "    while(not queue):\n",
    "        next_queue = list()\n",
    "        for v in queue:\n",
    "            for e in G.edges(v):\n",
    "                if e['label'] == None:\n",
    "                    w = list(e)[0][1]\n",
    "                    if w['ID'] == 0:\n",
    "                        e['label'] = 'DISCOVERY EDGE'\n",
    "                        w['ID'] = 1\n",
    "                        next_queue.append(w)\n",
    "                    else:\n",
    "                        e['label'] = 'CROSS EDGE'\n",
    "        queue = next_queue\n",
    "                    \n",
    "                    \n",
    "                \n",
    "    "
   ]
  },
  {
   "cell_type": "code",
   "execution_count": 61,
   "metadata": {},
   "outputs": [
    {
     "name": "stdout",
     "output_type": "stream",
     "text": [
      "('person1', 'person2')\n",
      "('person1', 'person3')\n",
      "('person1', 'person4')\n",
      "('person2', 'person4')\n"
     ]
    }
   ],
   "source": [
    "G = nx.Graph()\n",
    "\n",
    "G.add_node('person1', name='John Doe', age=40)\n",
    "G.add_node('person2', name='John Doe', age=40)\n",
    "G.add_node('person3', name='John Doe', age=40)\n",
    "G.add_node('person4', name='John Doe', age=40)\n",
    "\n",
    "G.add_edge('person1','person2')\n",
    "G.add_edge('person1','person3')\n",
    "G.add_edge('person1','person4')\n",
    "G.add_edge('person2','person4')\n",
    "\n",
    "\n",
    "for edge in G.edges():\n",
    "        print(edge)\n"
   ]
  },
  {
   "cell_type": "markdown",
   "metadata": {},
   "source": [
    "Examples of undirected graphs"
   ]
  },
  {
   "cell_type": "code",
   "execution_count": 7,
   "metadata": {},
   "outputs": [],
   "source": [
    "def initialize_graph_1():\n",
    "    G = nx.Graph()\n",
    "    nodes = ('u', 'v', 'w', 'x', 'y', 'z')\n",
    "    G.add_nodes_from(nodes)\n",
    "    edges = (('u','v'), ('u','w'), ('v','w'), ('v','x'), ('w','x'),\n",
    "             ('w','y'), ('y','x'), ('x','z'))\n",
    "    G.add_edges_from(edges)\n",
    "    return G"
   ]
  },
  {
   "cell_type": "code",
   "execution_count": 8,
   "metadata": {},
   "outputs": [],
   "source": [
    "def initialize_graph_2():\n",
    "    G = nx.Graph()\n",
    "    nodes = ('A', 'B', 'C', 'D', 'E', 'F', 'G', 'H', 'I', 'L')\n",
    "    G.add_nodes_from(nodes)\n",
    "    edges = (('A','B'), ('A','C'), ('A','D'), ('A','E'), ('A','F'),\n",
    "             ('A','H'), ('B','C'), ('C','D'), ('D','L'), ('F','G'),\n",
    "             ('G','H'), ('H','I'), ('H','L'))\n",
    "    G.add_edges_from(edges)\n",
    "    return G"
   ]
  },
  {
   "cell_type": "markdown",
   "metadata": {},
   "source": [
    "Closeness centrality algorithm for unweighted graphs"
   ]
  },
  {
   "cell_type": "code",
   "execution_count": 9,
   "metadata": {},
   "outputs": [],
   "source": [
    "def closeness_centrality(G, v):\n",
    "    length = dict(nx.all_pairs_shortest_path_length(G))\n",
    "    sum = 0\n",
    "    \n",
    "    for node in G.nodes():\n",
    "        sum = sum + length[v][node]\n",
    "        \n",
    "    return (G.number_of_nodes() - 1) / sum\n",
    "    "
   ]
  },
  {
   "cell_type": "code",
   "execution_count": 10,
   "metadata": {},
   "outputs": [
    {
     "name": "stdout",
     "output_type": "stream",
     "text": [
      "0.5555555555555556\n",
      "0.7142857142857143\n",
      "0.8333333333333334\n",
      "0.8333333333333334\n",
      "0.625\n",
      "0.5\n"
     ]
    }
   ],
   "source": [
    "G = initialize_graph_1()\n",
    "\n",
    "for n in G.nodes():\n",
    "    print(closeness_centrality(G, n))"
   ]
  },
  {
   "cell_type": "code",
   "execution_count": 11,
   "metadata": {},
   "outputs": [
    {
     "name": "stdout",
     "output_type": "stream",
     "text": [
      "0.75\n",
      "0.47368421052631576\n",
      "0.5294117647058824\n",
      "0.5294117647058824\n",
      "0.45\n",
      "0.5\n",
      "0.45\n",
      "0.6428571428571429\n",
      "0.4090909090909091\n",
      "0.47368421052631576\n"
     ]
    }
   ],
   "source": [
    "G = initialize_graph_2()\n",
    "\n",
    "for n in G.nodes():\n",
    "    print(closeness_centrality(G, n))"
   ]
  },
  {
   "cell_type": "markdown",
   "metadata": {},
   "source": [
    "Example of directed graph"
   ]
  },
  {
   "cell_type": "code",
   "execution_count": 12,
   "metadata": {},
   "outputs": [],
   "source": [
    "def initialize_weighted_graph():\n",
    "    G = nx.Graph()\n",
    "    nodes = ('A', 'B', 'C', 'D', 'E', 'F', 'G', 'H', 'I', 'L')\n",
    "    G.add_nodes_from(nodes)\n",
    "    G.add_edge('A','B',weight=2)\n",
    "    G.add_edge('A','C',weight=5)\n",
    "    G.add_edge('A','D',weight=9)\n",
    "    G.add_edge('A','E',weight=7)\n",
    "    G.add_edge('A','F',weight=2)\n",
    "    G.add_edge('B','C',weight=2)\n",
    "    G.add_edge('C','D',weight=3)\n",
    "    G.add_edge('D','L',weight=8)\n",
    "    G.add_edge('F','G',weight=1)\n",
    "    G.add_edge('G','H',weight=1)\n",
    "    G.add_edge('H','I',weight=3)\n",
    "    G.add_edge('H','L',weight=4)\n",
    "    \n",
    "    return G"
   ]
  },
  {
   "cell_type": "markdown",
   "metadata": {},
   "source": [
    "Closeness centrality algorithm for weighted graphs"
   ]
  },
  {
   "cell_type": "code",
   "execution_count": 13,
   "metadata": {},
   "outputs": [],
   "source": [
    "def closeness_centrality_weighted(G, v):\n",
    "    length = dict(nx.all_pairs_dijkstra_path_length(G))\n",
    "    sum = 0\n",
    "    \n",
    "    for node in G.nodes():\n",
    "        sum = sum + length[v][node]\n",
    "        \n",
    "    return (G.number_of_nodes() - 1) / sum\n",
    "    "
   ]
  },
  {
   "cell_type": "code",
   "execution_count": 14,
   "metadata": {},
   "outputs": [
    {
     "name": "stdout",
     "output_type": "stream",
     "text": [
      "A: 0.20454545454545456\n",
      "B: 0.17307692307692307\n",
      "C: 0.14285714285714285\n",
      "D: 0.1111111111111111\n",
      "E: 0.09\n",
      "F: 0.20454545454545456\n",
      "G: 0.1956521739130435\n",
      "H: 0.18\n",
      "I: 0.12162162162162163\n",
      "L: 0.12162162162162163\n"
     ]
    }
   ],
   "source": [
    "G = initialize_weighted_graph()\n",
    "\n",
    "for node in G.nodes():\n",
    "    print(\"{}: {}\".format(node, closeness_centrality_weighted(G,node)))"
   ]
  },
  {
   "cell_type": "code",
   "execution_count": 15,
   "metadata": {},
   "outputs": [],
   "source": [
    "import numpy as np\n",
    "from numpy import size\n",
    "import random\n",
    "import sklearn"
   ]
  },
  {
   "cell_type": "markdown",
   "metadata": {},
   "source": [
    "Eppstein-Wang algorithm"
   ]
  },
  {
   "cell_type": "code",
   "execution_count": 80,
   "metadata": {},
   "outputs": [],
   "source": [
    "def eppstein_wang(G,k,weight=False):\n",
    "    # Number of nodes in the graph\n",
    "    n = G.number_of_nodes()\n",
    "    # Initialize the array of sum\n",
    "    sum = np.zeros(n)\n",
    "    # Save a list of nodes\n",
    "    nodes = list(G.nodes())\n",
    "    # Get k random index that refers to k nodes\n",
    "    index = random.sample(range(n), k)\n",
    "    \n",
    "    # Create the matrix of distance between nodes\n",
    "    length = dict()\n",
    "    if weight == None:\n",
    "        length = dict(nx.all_pairs_shortest_path_length(G))\n",
    "    else:\n",
    "        length = dict(nx.all_pairs_dijkstra_path_length(G))\n",
    "    \n",
    "    # For each node compute the distance respect the k nodes\n",
    "    for i in index:\n",
    "        tmp_node = nodes[i]\n",
    "        for j in range(n):\n",
    "            sum[j] = sum[j] + length[tmp_node][nodes[j]]\n",
    "    \n",
    "    # Initialize the approximated cost\n",
    "    c = np.zeros(n)\n",
    "    \n",
    "    # Save the results in the array\n",
    "    for i in range(len(sum)):\n",
    "        c[i] = 1 / ((n * sum[i]) / (k * (n-1)))\n",
    "        print(\"{}: {}\".format(nodes[i], c[i]))\n",
    "    \n",
    "    return c;\n",
    "    \n",
    "    "
   ]
  },
  {
   "cell_type": "code",
   "execution_count": 65,
   "metadata": {},
   "outputs": [
    {
     "name": "stdout",
     "output_type": "stream",
     "text": [
      "u: 0.5555555555555556\n",
      "v: 0.7142857142857143\n",
      "w: 0.8333333333333334\n",
      "x: 0.8333333333333334\n",
      "y: 0.625\n",
      "z: 0.5\n"
     ]
    },
    {
     "data": {
      "text/plain": [
       "array([0.55555556, 0.71428571, 0.83333333, 0.83333333, 0.625     ,\n",
       "       0.5       ])"
      ]
     },
     "execution_count": 65,
     "metadata": {},
     "output_type": "execute_result"
    }
   ],
   "source": [
    "G = initialize_graph_1()\n",
    "\n",
    "eppstein_wang(G,6)"
   ]
  },
  {
   "cell_type": "code",
   "execution_count": 79,
   "metadata": {},
   "outputs": [
    {
     "name": "stdout",
     "output_type": "stream",
     "text": [
      "10\n",
      "A: 0.21428571428571427\n",
      "B: 0.1956521739130435\n",
      "C: 0.18\n",
      "D: 0.1323529411764706\n",
      "E: 0.08035714285714285\n",
      "F: 0.1956521739130435\n",
      "G: 0.1875\n",
      "H: 0.16666666666666666\n",
      "I: 0.125\n",
      "L: 0.11538461538461539\n"
     ]
    },
    {
     "data": {
      "text/plain": [
       "array([0.21428571, 0.19565217, 0.18      , 0.13235294, 0.08035714,\n",
       "       0.19565217, 0.1875    , 0.16666667, 0.125     , 0.11538462])"
      ]
     },
     "execution_count": 79,
     "metadata": {},
     "output_type": "execute_result"
    }
   ],
   "source": [
    "G = initialize_weighted_graph()\n",
    "\n",
    "print(G.number_of_nodes())\n",
    "\n",
    "eppstein_wang(G,5,weight=True)"
   ]
  }
 ],
 "metadata": {
  "kernelspec": {
   "display_name": "Python 3.10.6 64-bit",
   "language": "python",
   "name": "python3"
  },
  "language_info": {
   "codemirror_mode": {
    "name": "ipython",
    "version": 3
   },
   "file_extension": ".py",
   "mimetype": "text/x-python",
   "name": "python",
   "nbconvert_exporter": "python",
   "pygments_lexer": "ipython3",
   "version": "3.10.6"
  },
  "orig_nbformat": 4,
  "vscode": {
   "interpreter": {
    "hash": "916dbcbb3f70747c44a77c7bcd40155683ae19c65e1c03b4aa3499c5328201f1"
   }
  }
 },
 "nbformat": 4,
 "nbformat_minor": 2
}
